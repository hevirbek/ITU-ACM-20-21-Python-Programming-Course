{
 "cells": [
  {
   "cell_type": "markdown",
   "metadata": {
    "id": "YlXUaeO6OdSU"
   },
   "source": [
    "# Print() Fonksiyonu"
   ]
  },
  {
   "cell_type": "markdown",
   "metadata": {
    "id": "WkJvMG6rOtXj"
   },
   "source": [
    "Bir programın en temel fonksiyonlarından birisi ekrana çıktı vermektir. Python'da ekrana output bastırmak için print() fonksiyonu kullanılır:"
   ]
  },
  {
   "cell_type": "markdown",
   "metadata": {
    "id": "yhOQB2cWOxJ0"
   },
   "source": [
    "print() fonksiyonu aracılığıyla ekrana farklı veri tipleri bastırılabilir. Bunlardan en sık kullanılanı stringlerdir. print() fonksiyonu ile ekrana string bastırmak için bastırılacak stringin \" \" işaretleri arasına yazılması gerekmektedir."
   ]
  },
  {
   "cell_type": "code",
   "execution_count": null,
   "metadata": {
    "colab": {
     "base_uri": "https://localhost:8080/",
     "height": 34
    },
    "id": "6NrxslAHOyRc",
    "outputId": "f1d9f9c7-2052-4272-9e8e-50dc7d0e88b8"
   },
   "outputs": [
    {
     "name": "stdout",
     "output_type": "stream",
     "text": [
      "Hello World!\n"
     ]
    }
   ],
   "source": [
    "print(\"Hello World!\")"
   ]
  },
  {
   "cell_type": "markdown",
   "metadata": {
    "id": "N-Oa5BN4PGbl"
   },
   "source": [
    "print() fonksiyonu ile aynı zamanda matematiksel işlemlerin sonucu da bastırılabilir:"
   ]
  },
  {
   "cell_type": "code",
   "execution_count": null,
   "metadata": {
    "colab": {
     "base_uri": "https://localhost:8080/",
     "height": 34
    },
    "id": "EAzvkuOwPIYM",
    "outputId": "f00f45d6-738a-4e33-8390-3963c3b2fb2d"
   },
   "outputs": [
    {
     "name": "stdout",
     "output_type": "stream",
     "text": [
      "8\n"
     ]
    }
   ],
   "source": [
    "print(3+5)"
   ]
  },
  {
   "cell_type": "markdown",
   "metadata": {
    "id": "ZDN2Qxs-QvDd"
   },
   "source": [
    "# Yorum Satırı"
   ]
  },
  {
   "cell_type": "markdown",
   "metadata": {
    "id": "SyH6yK6XRWFt"
   },
   "source": [
    "Programlamada okunabilirlik kadar yorum satırları da çok önemli bir husustur. Yorum satırları, yazılan kodun bir başkası tarafından anlaşılmasına yardımcı olan açıklamalardır. Hatta bazen kodun yazarının bile kafa karışıklığını gidermeye yarayabilir."
   ]
  },
  {
   "cell_type": "markdown",
   "metadata": {
    "id": "bUkw4iTvR10V"
   },
   "source": [
    "### Nasıl Kullanılır"
   ]
  },
  {
   "cell_type": "markdown",
   "metadata": {
    "id": "ECp-597SR_F9"
   },
   "source": [
    "Python \"#\" işaretini gördüğü satırlarda \"#\" işaretinden sonraki kısmı yorum satırı olarak algılar ve işlemez. "
   ]
  },
  {
   "cell_type": "code",
   "execution_count": null,
   "metadata": {
    "colab": {
     "base_uri": "https://localhost:8080/",
     "height": 34
    },
    "id": "M8-P9XxTSShh",
    "outputId": "da4da4f7-0dae-4d57-9faf-165866589a0c"
   },
   "outputs": [
    {
     "name": "stdout",
     "output_type": "stream",
     "text": [
      "Hello World!\n"
     ]
    }
   ],
   "source": [
    "#Burda \"Hello World!\" yazısını ekrana yazdırdık.\n",
    "print(\"Hello World!\")"
   ]
  },
  {
   "cell_type": "code",
   "execution_count": null,
   "metadata": {
    "colab": {
     "base_uri": "https://localhost:8080/",
     "height": 34
    },
    "id": "DCiK65CGSjy1",
    "outputId": "fef7ba12-6f9a-491d-a5e2-7ee35c07e490"
   },
   "outputs": [
    {
     "name": "stdout",
     "output_type": "stream",
     "text": [
      "8\n"
     ]
    }
   ],
   "source": [
    "print(3+5) # Burda 3 ve 5'in toplamını ekrana yazdırdık."
   ]
  },
  {
   "cell_type": "markdown",
   "metadata": {
    "id": "twzt_jURPLFU"
   },
   "source": [
    "### Değişkenler"
   ]
  },
  {
   "cell_type": "markdown",
   "metadata": {
    "id": "95CnzUfXP430"
   },
   "source": [
    "Programlama yaparken her zaman verilerin kesin değerlerini kullanarak işlemler yapmayız. Bazı veriler değişkendir, mesela hava sıcaklığı. Örneğin Celcius biriminden alınan hava sıcaklığını Kelvin birimine dönüştüren bir program yazıyorsak burada değişkenleri kullanırız. Çünkü hava sıcaklığı değişkendir ve bizim değişkenler üzerinden yazacağımız kod da bu değişkene göre sonuçlar alacaktır."
   ]
  },
  {
   "cell_type": "markdown",
   "metadata": {
    "id": "1m0ff83WQRHs"
   },
   "source": [
    "#### Değişken Tanımlama"
   ]
  },
  {
   "cell_type": "markdown",
   "metadata": {
    "id": "x-C9TTyOQhP0"
   },
   "source": [
    "Değişken tanımlarken dikkat etmemiz gereken birtakım kurallar var. Öncelikle basit bir değişken tanımlama örneği gösterelim."
   ]
  },
  {
   "cell_type": "code",
   "execution_count": null,
   "metadata": {
    "id": "uq4mfX0kQmy9"
   },
   "outputs": [],
   "source": [
    "a = 15 # Burda a değişkenine 15 değerini atadık."
   ]
  },
  {
   "cell_type": "code",
   "execution_count": null,
   "metadata": {
    "colab": {
     "base_uri": "https://localhost:8080/",
     "height": 34
    },
    "id": "pQFXVNbJQqBO",
    "outputId": "d93f8f57-e913-4142-94a4-92303102f4c6"
   },
   "outputs": [
    {
     "name": "stdout",
     "output_type": "stream",
     "text": [
      "15\n"
     ]
    }
   ],
   "source": [
    "print(a) # Burda a değerini yazdırdık."
   ]
  },
  {
   "cell_type": "markdown",
   "metadata": {
    "id": "WfaUzxiIZSR3"
   },
   "source": [
    "**Değişkenin adı = Değişkenin alacağı değer**"
   ]
  },
  {
   "cell_type": "markdown",
   "metadata": {
    "id": "nFo8jTuiZeZ-"
   },
   "source": [
    "Değişken tanımlamayı bu şekilde özetleyebiliriz. Bu aşamada değişkenimize vereceğimiz ad konusunda dikkatli ve açık olmalıyız. Bu konuda da bazı kurallar mevcut:"
   ]
  },
  {
   "cell_type": "markdown",
   "metadata": {
    "id": "9UopH2bXZhyG"
   },
   "source": [
    "1) Değişken adının içinde boşluk bulunamaz."
   ]
  },
  {
   "cell_type": "code",
   "execution_count": 9,
   "metadata": {
    "colab": {
     "base_uri": "https://localhost:8080/",
     "height": 128
    },
    "id": "rS8mWlSJZibP",
    "outputId": "057c9625-603f-4682-a8b3-0ecb3612b2bd"
   },
   "outputs": [
    {
     "ename": "SyntaxError",
     "evalue": "ignored",
     "output_type": "error",
     "traceback": [
      "\u001b[0;36m  File \u001b[0;32m\"<ipython-input-9-ad46b0ee513e>\"\u001b[0;36m, line \u001b[0;32m1\u001b[0m\n\u001b[0;31m    hava sıcaklığı = 34\u001b[0m\n\u001b[0m                 ^\u001b[0m\n\u001b[0;31mSyntaxError\u001b[0m\u001b[0;31m:\u001b[0m invalid syntax\n"
     ]
    }
   ],
   "source": [
    "hava sıcaklığı = 34\n",
    "\n",
    "print(hava sıcaklığı)"
   ]
  },
  {
   "cell_type": "markdown",
   "metadata": {
    "id": "fjJQ1rOaZl8O"
   },
   "source": [
    "Bu şekilde adlandırılmış bir değişken çalışmayıp hata verecektir."
   ]
  },
  {
   "cell_type": "markdown",
   "metadata": {
    "id": "MzdisdodZoSO"
   },
   "source": [
    "Birden fazla kelimeden oluşmasını istediğiniz değişken adlarını bitişik olacak biçimde yazmak durumundasınız."
   ]
  },
  {
   "cell_type": "code",
   "execution_count": 10,
   "metadata": {
    "colab": {
     "base_uri": "https://localhost:8080/",
     "height": 34
    },
    "id": "U9hOG17PZrm-",
    "outputId": "c8899b6a-932c-4bea-d57c-32d4758d6a79"
   },
   "outputs": [
    {
     "name": "stdout",
     "output_type": "stream",
     "text": [
      "34\n"
     ]
    }
   ],
   "source": [
    "havasıcaklığı = 34\n",
    "\n",
    "print(havasıcaklığı)"
   ]
  },
  {
   "cell_type": "markdown",
   "metadata": {
    "id": "zAdGbNMWZt8u"
   },
   "source": [
    "Burda kelimeleri bitişik yazdığımızda oluşabilecek kargaşayı önlemek için iki farklı yönteme başvurabiliriz"
   ]
  },
  {
   "cell_type": "code",
   "execution_count": 2,
   "metadata": {
    "colab": {
     "base_uri": "https://localhost:8080/",
     "height": 34
    },
    "id": "8-umvC-yaS0B",
    "outputId": "5a4b5030-a97a-4034-aade-86c89de1135f"
   },
   "outputs": [
    {
     "name": "stdout",
     "output_type": "stream",
     "text": [
      "34\n"
     ]
    }
   ],
   "source": [
    "havaSıcaklığı = 34 # Python'da büyük-küçük harf duyarlılığı vardır.\n",
    "\n",
    "print(havaSıcaklığı)"
   ]
  },
  {
   "cell_type": "code",
   "execution_count": 12,
   "metadata": {
    "colab": {
     "base_uri": "https://localhost:8080/",
     "height": 34
    },
    "id": "5ghJJFpBaUS2",
    "outputId": "9f305e4c-9071-404e-864d-a680e8b2f62d"
   },
   "outputs": [
    {
     "name": "stdout",
     "output_type": "stream",
     "text": [
      "34\n"
     ]
    }
   ],
   "source": [
    "hava_sıcaklığı = 34 # Kelimelerin arasına noktalama işareti koyularak karışıklık azaltılabilir.\n",
    "\n",
    "print(hava_sıcaklığı)"
   ]
  },
  {
   "cell_type": "markdown",
   "metadata": {
    "id": "KKlMRTa3aXbe"
   },
   "source": [
    "2) Değişken adı konarken anahtar kelimeler kullanamazsınız."
   ]
  },
  {
   "cell_type": "code",
   "execution_count": 13,
   "metadata": {
    "colab": {
     "base_uri": "https://localhost:8080/",
     "height": 128
    },
    "id": "7B5epFDiaVlD",
    "outputId": "e3d8c0a2-6481-40dc-ba33-ff5797f68eff"
   },
   "outputs": [
    {
     "ename": "SyntaxError",
     "evalue": "ignored",
     "output_type": "error",
     "traceback": [
      "\u001b[0;36m  File \u001b[0;32m\"<ipython-input-13-4badb502b60f>\"\u001b[0;36m, line \u001b[0;32m1\u001b[0m\n\u001b[0;31m    and = \"ve\" # Burda and adında bir değişkene \"ve\" string değerine atamaya çalışıyoruz.\u001b[0m\n\u001b[0m      ^\u001b[0m\n\u001b[0;31mSyntaxError\u001b[0m\u001b[0;31m:\u001b[0m invalid syntax\n"
     ]
    }
   ],
   "source": [
    "and = \"ve\" # Burda and adında bir değişkene \"ve\" string değerine atamaya çalışıyoruz.\n",
    "\n",
    "#Kodumuzu bu haliyle çalıştıralım."
   ]
  },
  {
   "cell_type": "markdown",
   "metadata": {
    "id": "J97FMJqmahHv"
   },
   "source": [
    "Burda and Python programlama dilinin anahtar kelimelerinden biri olduğundan hata verdi."
   ]
  },
  {
   "cell_type": "markdown",
   "metadata": {
    "id": "kvJIlivjakwG"
   },
   "source": [
    "3) Değişkenler adlarının içinde sayı bulunabilir fakat değişken adları sayı ile başlayamaz."
   ]
  },
  {
   "cell_type": "code",
   "execution_count": 16,
   "metadata": {
    "colab": {
     "base_uri": "https://localhost:8080/",
     "height": 34
    },
    "id": "A2caJcR3aaCY",
    "outputId": "60d3e0d9-fc74-40d4-a436-600e08d6bb74"
   },
   "outputs": [
    {
     "name": "stdout",
     "output_type": "stream",
     "text": [
      "18\n"
     ]
    }
   ],
   "source": [
    "sayı1 = 18\n",
    "\n",
    "print(sayı1)"
   ]
  },
  {
   "cell_type": "code",
   "execution_count": 17,
   "metadata": {
    "colab": {
     "base_uri": "https://localhost:8080/",
     "height": 128
    },
    "id": "oKl9hZCAarS1",
    "outputId": "159d3cea-1b46-409c-8ea9-31297cee8289"
   },
   "outputs": [
    {
     "ename": "SyntaxError",
     "evalue": "ignored",
     "output_type": "error",
     "traceback": [
      "\u001b[0;36m  File \u001b[0;32m\"<ipython-input-17-6c8d18513032>\"\u001b[0;36m, line \u001b[0;32m1\u001b[0m\n\u001b[0;31m    1sayı = 18\u001b[0m\n\u001b[0m        ^\u001b[0m\n\u001b[0;31mSyntaxError\u001b[0m\u001b[0;31m:\u001b[0m invalid syntax\n"
     ]
    }
   ],
   "source": [
    "1sayı = 18\n",
    "\n",
    "print(sayı1)"
   ]
  },
  {
   "cell_type": "markdown",
   "metadata": {
    "id": "z0xt9Cv7anjl"
   },
   "source": [
    "Değişkenler tanımlanırken işlemler de yapılabilir. Mesela bir değişkene iki sayının toplamını atayabiliriz."
   ]
  },
  {
   "cell_type": "code",
   "execution_count": 18,
   "metadata": {
    "colab": {
     "base_uri": "https://localhost:8080/",
     "height": 34
    },
    "id": "A7wTN741a0F2",
    "outputId": "5e3fbeed-e730-4b5d-9d29-0c8399a2f73a"
   },
   "outputs": [
    {
     "name": "stdout",
     "output_type": "stream",
     "text": [
      "8\n"
     ]
    }
   ],
   "source": [
    "islem = 3+5\n",
    "\n",
    "print(islem)"
   ]
  },
  {
   "cell_type": "markdown",
   "metadata": {
    "id": "_aoh64t7a4FX"
   },
   "source": [
    "İstersek diğer değişkenler ile yaptığımız işlemlerin sonucunu da bir değişkene atayabiliriz."
   ]
  },
  {
   "cell_type": "code",
   "execution_count": 19,
   "metadata": {
    "colab": {
     "base_uri": "https://localhost:8080/",
     "height": 34
    },
    "id": "3YF-rxRya5kL",
    "outputId": "56712b46-197e-48f1-ec42-053876cf4cbe"
   },
   "outputs": [
    {
     "name": "stdout",
     "output_type": "stream",
     "text": [
      "25\n"
     ]
    }
   ],
   "source": [
    "a = 12\n",
    "b = 13\n",
    "\n",
    "c = a+b\n",
    "\n",
    "print(c)"
   ]
  },
  {
   "cell_type": "markdown",
   "metadata": {
    "id": "x9DiyEEUbO_G"
   },
   "source": [
    "Hatta karışık işlemler bile yapabiliriz."
   ]
  },
  {
   "cell_type": "code",
   "execution_count": 20,
   "metadata": {
    "colab": {
     "base_uri": "https://localhost:8080/",
     "height": 34
    },
    "id": "F1x7JDuXbIWW",
    "outputId": "92475a1c-cfe9-488b-ae5c-173041ae36c0"
   },
   "outputs": [
    {
     "name": "stdout",
     "output_type": "stream",
     "text": [
      "6\n"
     ]
    }
   ],
   "source": [
    "a = 4\n",
    "b = 6\n",
    "\n",
    "c = 3*(a+b) - a*b\n",
    "\n",
    "print(c)"
   ]
  },
  {
   "cell_type": "markdown",
   "metadata": {
    "id": "DaJISIYQbSfW"
   },
   "source": [
    "Değişkenlere stringler de atayabiliriz."
   ]
  },
  {
   "cell_type": "code",
   "execution_count": null,
   "metadata": {
    "id": "5Wn9ulkzbQfr"
   },
   "outputs": [],
   "source": [
    "isim = \"Hüseyin\"\n",
    "\n",
    "print(isim)"
   ]
  },
  {
   "cell_type": "markdown",
   "metadata": {
    "id": "gpca4uY9bi3Q"
   },
   "source": [
    "Stringleri birleştirmek için de toplama işaretini kullanabiliriz."
   ]
  },
  {
   "cell_type": "code",
   "execution_count": 21,
   "metadata": {
    "colab": {
     "base_uri": "https://localhost:8080/",
     "height": 34
    },
    "id": "qjpMBBKWbjNG",
    "outputId": "0956424d-45d9-4f4a-86f3-61894d1f80a9"
   },
   "outputs": [
    {
     "name": "stdout",
     "output_type": "stream",
     "text": [
      "HüseyinAverbek\n"
     ]
    }
   ],
   "source": [
    "isim = \"Hüseyin\"\n",
    "soyisim = \"Averbek\"\n",
    "\n",
    "kişi = isim + soyisim\n",
    "\n",
    "print(kişi)"
   ]
  },
  {
   "cell_type": "markdown",
   "metadata": {
    "id": "FAXAa9q-boqW"
   },
   "source": [
    "Burda \"Hüseyin\" stringinin sonunda ve \"Averbek\" stringinin başında boşluk bulunmadığı için ismi ve soyismi bitişik yazdırdı. Bu duruma karşılık da şöyle bir çözüm getirilebilir:"
   ]
  },
  {
   "cell_type": "code",
   "execution_count": 22,
   "metadata": {
    "colab": {
     "base_uri": "https://localhost:8080/",
     "height": 34
    },
    "id": "CzcMGUcvbmQ4",
    "outputId": "2597c2c6-0f6b-44ad-fed6-0fd8ea30af24"
   },
   "outputs": [
    {
     "name": "stdout",
     "output_type": "stream",
     "text": [
      "Hüseyin Averbek\n"
     ]
    }
   ],
   "source": [
    "isim = \"Hüseyin\"\n",
    "soyisim = \"Averbek\"\n",
    "\n",
    "kişi = isim + \" \" + soyisim\n",
    "\n",
    "print(kişi)"
   ]
  },
  {
   "cell_type": "markdown",
   "metadata": {
    "id": "lDYiSGHmbyn3"
   },
   "source": [
    "**Uyarı**: Tırnak işareti kullanılmadan yazılan sayılar ile stringler toplama işaretiyle birleştirilemez!"
   ]
  },
  {
   "cell_type": "code",
   "execution_count": 23,
   "metadata": {
    "colab": {
     "base_uri": "https://localhost:8080/",
     "height": 229
    },
    "id": "btmCSbTfbwBe",
    "outputId": "df2561bf-4ae1-461e-efaa-acfbd23a7cc5"
   },
   "outputs": [
    {
     "ename": "TypeError",
     "evalue": "ignored",
     "output_type": "error",
     "traceback": [
      "\u001b[0;31m---------------------------------------------------------------------------\u001b[0m",
      "\u001b[0;31mTypeError\u001b[0m                                 Traceback (most recent call last)",
      "\u001b[0;32m<ipython-input-23-44cd13e20d0a>\u001b[0m in \u001b[0;36m<module>\u001b[0;34m()\u001b[0m\n\u001b[1;32m      2\u001b[0m \u001b[0myaş\u001b[0m \u001b[0;34m=\u001b[0m \u001b[0;36m21\u001b[0m\u001b[0;34m\u001b[0m\u001b[0;34m\u001b[0m\u001b[0m\n\u001b[1;32m      3\u001b[0m \u001b[0;34m\u001b[0m\u001b[0m\n\u001b[0;32m----> 4\u001b[0;31m \u001b[0misim_yaş\u001b[0m \u001b[0;34m=\u001b[0m \u001b[0misim\u001b[0m \u001b[0;34m+\u001b[0m \u001b[0;34m\" \"\u001b[0m \u001b[0;34m+\u001b[0m \u001b[0myaş\u001b[0m\u001b[0;34m\u001b[0m\u001b[0;34m\u001b[0m\u001b[0m\n\u001b[0m\u001b[1;32m      5\u001b[0m \u001b[0;34m\u001b[0m\u001b[0m\n\u001b[1;32m      6\u001b[0m \u001b[0mprint\u001b[0m\u001b[0;34m(\u001b[0m\u001b[0misim_yaş\u001b[0m\u001b[0;34m)\u001b[0m\u001b[0;34m\u001b[0m\u001b[0;34m\u001b[0m\u001b[0m\n",
      "\u001b[0;31mTypeError\u001b[0m: must be str, not int"
     ]
    }
   ],
   "source": [
    "isim = \"Hüseyin\"\n",
    "yaş = 21\n",
    "\n",
    "isim_yaş = isim + \" \" + yaş\n",
    "\n",
    "print(isim_yaş)"
   ]
  },
  {
   "cell_type": "markdown",
   "metadata": {
    "id": "BRuatK_4cMZN"
   },
   "source": [
    "\n",
    "Yukarıdaki hatayı almamızın sebebi [ isim_yaş = isim + \" \" + yaş ] satırında bir stringle bir tam sayıyı toplamaya çalışmamız. Bu durumun önüne geçmek için tamsayı değerimiz tırnak içine alınabilir. Böylelikle 2 stringi birleştirebiliriz:"
   ]
  },
  {
   "cell_type": "code",
   "execution_count": 25,
   "metadata": {
    "colab": {
     "base_uri": "https://localhost:8080/",
     "height": 34
    },
    "id": "wQEvb2Ffb4GF",
    "outputId": "fbf8a69d-2a96-4223-f173-c8c2b4c85445"
   },
   "outputs": [
    {
     "name": "stdout",
     "output_type": "stream",
     "text": [
      "Hüseyin 21\n"
     ]
    }
   ],
   "source": [
    "isim = \"Hüseyin\"\n",
    "yaş = \"21\"\n",
    "\n",
    "isim_yaş = isim + \" \" + yaş\n",
    "\n",
    "print(isim_yaş)"
   ]
  },
  {
   "cell_type": "markdown",
   "metadata": {
    "id": "B_ppa01RcvP-"
   },
   "source": [
    "## Veri Tipleri"
   ]
  },
  {
   "cell_type": "markdown",
   "metadata": {
    "id": "h0TjU6KQc0Rv"
   },
   "source": [
    "\n",
    "Python'da farklı verileri tutmak için farklı veri tiplerinde değişkenler kullanılır. En sık kullanılanları harfleri tutmak için string (str), tamsayıları tutmak için integer (int), ve rasyonel sayıları tutmak için float'tır (float)."
   ]
  },
  {
   "cell_type": "markdown",
   "metadata": {
    "id": "4CdE7rOic5GH"
   },
   "source": [
    "#### type() Fonksiyonu"
   ]
  },
  {
   "cell_type": "markdown",
   "metadata": {
    "id": "3ZmN1bPhc7hT"
   },
   "source": [
    "Python'da bir değişkenin veya ifadenin hangi veri tipinden olduğunu görmek için type() fonksiyonu kullanılır."
   ]
  },
  {
   "cell_type": "code",
   "execution_count": 26,
   "metadata": {
    "colab": {
     "base_uri": "https://localhost:8080/",
     "height": 34
    },
    "id": "ne7M-sW1cK3w",
    "outputId": "3d714038-68ed-42b8-e138-8db49c4e3559"
   },
   "outputs": [
    {
     "name": "stdout",
     "output_type": "stream",
     "text": [
      "<class 'int'>\n"
     ]
    }
   ],
   "source": [
    "a = 3\n",
    "print(type(a))"
   ]
  },
  {
   "cell_type": "markdown",
   "metadata": {
    "id": "PCp6QAuiqLfh"
   },
   "source": [
    "\n",
    "type() fonksiyonunun değeri değişkene atanmadan da print() fonksiyonu içinde kullanılabilir. Python matematikteki bileşke fonksiyon mantığıyla içten dışa fonksiyonların işlevini yerine getirir. g [f(x)] = (g o f) (x)"
   ]
  },
  {
   "cell_type": "code",
   "execution_count": 27,
   "metadata": {
    "colab": {
     "base_uri": "https://localhost:8080/",
     "height": 34
    },
    "id": "Zd1mslGlqH0p",
    "outputId": "7674760a-08fb-4abd-e182-1d32f32649ba"
   },
   "outputs": [
    {
     "name": "stdout",
     "output_type": "stream",
     "text": [
      "<class 'str'>\n"
     ]
    }
   ],
   "source": [
    "b = \"merhaba\"\n",
    "print(type(b))"
   ]
  },
  {
   "cell_type": "code",
   "execution_count": 28,
   "metadata": {
    "colab": {
     "base_uri": "https://localhost:8080/",
     "height": 34
    },
    "id": "NTDXFrEHqP_f",
    "outputId": "d433b735-22c7-401c-dbd5-00c45531e508"
   },
   "outputs": [
    {
     "name": "stdout",
     "output_type": "stream",
     "text": [
      "<class 'float'>\n"
     ]
    }
   ],
   "source": [
    "c = 12.5\n",
    "print(type(c))"
   ]
  },
  {
   "cell_type": "markdown",
   "metadata": {
    "id": "FZtfkggErCcJ"
   },
   "source": [
    "# Input() Fonksiyonu"
   ]
  },
  {
   "cell_type": "markdown",
   "metadata": {
    "id": "iLaZuixQrHhC"
   },
   "source": [
    "Bir programın en önemli fonksiyonlarından bir diğeri ise kullanıcıyla iletişime geçebilmesidir. Python'da kullanıcıdan değer girmesini talep etmek için input() fonksiyonu kullanılır."
   ]
  },
  {
   "cell_type": "markdown",
   "metadata": {
    "id": "9mJuUmCfrK4R"
   },
   "source": [
    "input() fonksiyonu ile programa dışarıdan veri alınır. Alınan bu veri programda daha sonra kullanılmak üzere bir değişkene atanır. Input() fonksiyonuna parametre olarak girilen değer kullanıcıdan input almadan önce ekrana bastırılır:"
   ]
  },
  {
   "cell_type": "code",
   "execution_count": 29,
   "metadata": {
    "colab": {
     "base_uri": "https://localhost:8080/",
     "height": 50
    },
    "id": "dnko_NlprF_V",
    "outputId": "dd002f2d-10f1-47f9-f1d9-857150536d4a"
   },
   "outputs": [
    {
     "name": "stdout",
     "output_type": "stream",
     "text": [
      "Lütfen bir sayı giriniz:10\n",
      "10\n"
     ]
    }
   ],
   "source": [
    "n = input(\"Lütfen bir sayı giriniz:\")\n",
    "print(n)"
   ]
  },
  {
   "cell_type": "code",
   "execution_count": 30,
   "metadata": {
    "colab": {
     "base_uri": "https://localhost:8080/",
     "height": 50
    },
    "id": "76e6EbsdrnCz",
    "outputId": "3dfb677e-785a-491f-a8f6-06697aa81e01"
   },
   "outputs": [
    {
     "name": "stdout",
     "output_type": "stream",
     "text": [
      "Lütfen bir string giriniz:ITU ACM Python Kursu\n",
      "ITU ACM Python Kursu\n"
     ]
    }
   ],
   "source": [
    "n = input(\"Lütfen bir string giriniz:\")\n",
    "print(n)"
   ]
  },
  {
   "cell_type": "markdown",
   "metadata": {
    "id": "WUbvaNvcsCvh"
   },
   "source": [
    "Input fonksiyonuna herhangi bir parametre vermeden de çalıştırabiliriz. Bu durumda kullanıcının ekranın bir bilgilendirme mesajı belirmeyecektir:"
   ]
  },
  {
   "cell_type": "code",
   "execution_count": null,
   "metadata": {
    "colab": {
     "base_uri": "https://localhost:8080/",
     "height": 50
    },
    "id": "eNXtrPsSr9rQ",
    "outputId": "1128ba13-db36-4b65-cd02-bccdd79d21e8"
   },
   "outputs": [],
   "source": [
    "girilenDeger = input()\n",
    "print(girilenDeger)"
   ]
  },
  {
   "cell_type": "code",
   "execution_count": 32,
   "metadata": {
    "colab": {
     "base_uri": "https://localhost:8080/",
     "height": 50
    },
    "id": "CCucLbmksImu",
    "outputId": "1043e066-6a44-4da6-a5d1-7eb7c7b38ee2"
   },
   "outputs": [
    {
     "name": "stdout",
     "output_type": "stream",
     "text": [
      "15\n",
      "<class 'str'>\n"
     ]
    }
   ],
   "source": [
    "girilenDeger = input()\n",
    "print(type(girilenDeger))"
   ]
  },
  {
   "cell_type": "markdown",
   "metadata": {
    "id": "LENtzWYzsU35"
   },
   "source": [
    "\n",
    "Burada görüldüğü gibi input fonksiyonu aldığı inputları her zaman string türünde alır. Yukarıdaki örnekte de görüldüğü gibi girdiğimiz değer bir tamsayı olan 5 olmasına rağmen program bu değerin tipini string olarak algıladı. Tamsayıları, rasyonel sayıları ve stringleri birbirinden ayırmanın yolu ise type casting yöntemidir."
   ]
  },
  {
   "cell_type": "markdown",
   "metadata": {
    "id": "eAmuw5NKsddR"
   },
   "source": [
    "### Type Casting"
   ]
  },
  {
   "cell_type": "markdown",
   "metadata": {
    "id": "E_HE8dV_tJ7x"
   },
   "source": [
    "Python'da input halinde gelen değerleri farklı veri tiplerine çevirmek için kullanılır. int(), float(), ve str(); input() fonksiyonundan gelen veriyi istenen veri tipine çevirmek için kullanılır. Type casting yapmadan aldığımız inputları stringten istediğimiz veri tipine dönüştüremeyiz ve bu durumda istenilen işlemleri yaparken hata alabiliriz."
   ]
  },
  {
   "cell_type": "code",
   "execution_count": 33,
   "metadata": {
    "colab": {
     "base_uri": "https://localhost:8080/",
     "height": 50
    },
    "id": "pz2NP5H0sQIE",
    "outputId": "ca260bfc-0d8d-431a-f2f5-a6c1a5a38927"
   },
   "outputs": [
    {
     "name": "stdout",
     "output_type": "stream",
     "text": [
      "15\n",
      "<class 'int'>\n"
     ]
    }
   ],
   "source": [
    "n = int(input())\n",
    "print(type(n))"
   ]
  },
  {
   "cell_type": "markdown",
   "metadata": {
    "id": "ZJR5sFAMtazp"
   },
   "source": [
    "\n",
    "Casting yapmadığımız takdirde karşılaşabileceğimiz sorunlara örnek vermek gerekirse:"
   ]
  },
  {
   "cell_type": "code",
   "execution_count": 34,
   "metadata": {
    "colab": {
     "base_uri": "https://localhost:8080/",
     "height": 67
    },
    "id": "geyT6LChtWcX",
    "outputId": "3e6749cc-fdca-46b9-8238-8d4804fdbce4"
   },
   "outputs": [
    {
     "name": "stdout",
     "output_type": "stream",
     "text": [
      "Birinci sayı:3\n",
      "İkinci sayı:5\n",
      "35\n"
     ]
    }
   ],
   "source": [
    "a = input(\"Birinci sayı:\")\n",
    "b = input(\"İkinci sayı:\")\n",
    "\n",
    "toplam = a + b\n",
    "print(toplam)"
   ]
  },
  {
   "cell_type": "markdown",
   "metadata": {
    "id": "owpGscdbubOi"
   },
   "source": [
    "\n",
    "Yukarıda da görüldüğü gibi toplama işlemi yapmak istediğimiz halde aldığımız inputları int (tam sayı) veri tipine dönüştürmediğimiz için string birleştirme işlemi gerçekleştirdik. Bu durumun önüne geçmek için önce aldığımız inputları int veri tipine dönüştürmemiz gerekir:"
   ]
  },
  {
   "cell_type": "code",
   "execution_count": 35,
   "metadata": {
    "colab": {
     "base_uri": "https://localhost:8080/",
     "height": 67
    },
    "id": "hJ4oJVcStt6s",
    "outputId": "2f78f6d0-1612-483c-aa4c-1392c0b3833a"
   },
   "outputs": [
    {
     "name": "stdout",
     "output_type": "stream",
     "text": [
      "Birinci sayı:3\n",
      "İkinci sayı:5\n",
      "8\n"
     ]
    }
   ],
   "source": [
    "a = int(input(\"Birinci sayı:\"))\n",
    "b = int(input(\"İkinci sayı:\"))\n",
    "\n",
    "toplam = a + b\n",
    "print(toplam)"
   ]
  },
  {
   "cell_type": "markdown",
   "metadata": {
    "id": "2xaOwa2uui8Q"
   },
   "source": [
    "\n",
    "Burada dikkat edilmesi gereken önemli nokta veri tiplerini karıştırmamaktır. Aksi takdirde hatayla karşılaşabiliriz:"
   ]
  },
  {
   "cell_type": "code",
   "execution_count": 36,
   "metadata": {
    "colab": {
     "base_uri": "https://localhost:8080/",
     "height": 195
    },
    "id": "DhqNi6c3ufK5",
    "outputId": "18897fab-5396-4371-d620-e29e36581d36"
   },
   "outputs": [
    {
     "name": "stdout",
     "output_type": "stream",
     "text": [
      "Python3\n"
     ]
    },
    {
     "ename": "ValueError",
     "evalue": "ignored",
     "output_type": "error",
     "traceback": [
      "\u001b[0;31m---------------------------------------------------------------------------\u001b[0m",
      "\u001b[0;31mValueError\u001b[0m                                Traceback (most recent call last)",
      "\u001b[0;32m<ipython-input-36-93ddc6c45b1a>\u001b[0m in \u001b[0;36m<module>\u001b[0;34m()\u001b[0m\n\u001b[0;32m----> 1\u001b[0;31m \u001b[0mn\u001b[0m \u001b[0;34m=\u001b[0m \u001b[0mint\u001b[0m\u001b[0;34m(\u001b[0m\u001b[0minput\u001b[0m\u001b[0;34m(\u001b[0m\u001b[0;34m)\u001b[0m\u001b[0;34m)\u001b[0m\u001b[0;34m\u001b[0m\u001b[0;34m\u001b[0m\u001b[0m\n\u001b[0m\u001b[1;32m      2\u001b[0m \u001b[0mprint\u001b[0m\u001b[0;34m(\u001b[0m\u001b[0mn\u001b[0m\u001b[0;34m)\u001b[0m\u001b[0;34m\u001b[0m\u001b[0;34m\u001b[0m\u001b[0m\n",
      "\u001b[0;31mValueError\u001b[0m: invalid literal for int() with base 10: 'Python3'"
     ]
    }
   ],
   "source": [
    "n = int(input())\n",
    "print(n)"
   ]
  },
  {
   "cell_type": "markdown",
   "metadata": {
    "id": "S2FgkNySvlia"
   },
   "source": [
    "## Max-Min Functions"
   ]
  },
  {
   "cell_type": "markdown",
   "metadata": {
    "id": "G3JDSetQw_tr"
   },
   "source": [
    "max() fonksiyonu, en yüksek değere sahip öğeyi döndürür.\n",
    "\n",
    "Değerler string ise alfabetik sıralamaya göre en sonda olan öğeyi döndürür."
   ]
  },
  {
   "cell_type": "code",
   "execution_count": 39,
   "metadata": {
    "colab": {
     "base_uri": "https://localhost:8080/",
     "height": 34
    },
    "id": "zhcBiyQiurB6",
    "outputId": "7f4957bf-37a5-4470-be4e-60498d1f5f74"
   },
   "outputs": [
    {
     "name": "stdout",
     "output_type": "stream",
     "text": [
      "5\n"
     ]
    }
   ],
   "source": [
    "print(max(3,5))"
   ]
  },
  {
   "cell_type": "code",
   "execution_count": 40,
   "metadata": {
    "colab": {
     "base_uri": "https://localhost:8080/",
     "height": 34
    },
    "id": "zLSA9qmcxf76",
    "outputId": "9980e71c-e3b3-407f-dd6a-8a64b330a9ef"
   },
   "outputs": [
    {
     "name": "stdout",
     "output_type": "stream",
     "text": [
      "5\n"
     ]
    }
   ],
   "source": [
    "maksimum = max(3,5)\n",
    "\n",
    "print(maksimum)"
   ]
  },
  {
   "cell_type": "code",
   "execution_count": 45,
   "metadata": {
    "colab": {
     "base_uri": "https://localhost:8080/",
     "height": 34
    },
    "id": "u0LEGxjBxily",
    "outputId": "51a53cb5-bb16-45b9-8584-3d2871cd5828"
   },
   "outputs": [
    {
     "name": "stdout",
     "output_type": "stream",
     "text": [
      "Mersin\n"
     ]
    }
   ],
   "source": [
    "print(max(\"Adana\",\"Mersin\"))"
   ]
  },
  {
   "cell_type": "markdown",
   "metadata": {
    "id": "ZYwry2JSyQea"
   },
   "source": [
    "max() ve min() fonksiyonlarına istenildiği kadar öğe eklenebilir:"
   ]
  },
  {
   "cell_type": "code",
   "execution_count": 42,
   "metadata": {
    "colab": {
     "base_uri": "https://localhost:8080/",
     "height": 34
    },
    "id": "ga9PiF9OyJ5d",
    "outputId": "9c8a9f68-98fa-4958-e6a0-e2e2e2e54c1b"
   },
   "outputs": [
    {
     "name": "stdout",
     "output_type": "stream",
     "text": [
      "9\n"
     ]
    }
   ],
   "source": [
    "maksimum = max(6,2,3,5,6,7,9,1,4,2,8)\n",
    "\n",
    "print(maksimum)"
   ]
  },
  {
   "cell_type": "markdown",
   "metadata": {
    "id": "X7Gjux6FzaZK"
   },
   "source": [
    "min() fonksiyonu, en düşük değere sahip öğeyi döndürür.\n",
    "\n",
    "Değerler string ise alfabetik sıralamaya göre en önce olan öğeyi döndürür."
   ]
  },
  {
   "cell_type": "code",
   "execution_count": 43,
   "metadata": {
    "colab": {
     "base_uri": "https://localhost:8080/",
     "height": 34
    },
    "id": "cubB2r39zaq2",
    "outputId": "89f47937-76eb-4c90-983a-157ac39dad99"
   },
   "outputs": [
    {
     "name": "stdout",
     "output_type": "stream",
     "text": [
      "3\n"
     ]
    }
   ],
   "source": [
    "print(min(3,5))"
   ]
  },
  {
   "cell_type": "code",
   "execution_count": 44,
   "metadata": {
    "colab": {
     "base_uri": "https://localhost:8080/",
     "height": 34
    },
    "id": "6HyChOR4zeTq",
    "outputId": "add4ae15-0280-47ff-fdaf-daf5bd130a1a"
   },
   "outputs": [
    {
     "name": "stdout",
     "output_type": "stream",
     "text": [
      "5\n"
     ]
    }
   ],
   "source": [
    "minimum = min(3,5)\n",
    "\n",
    "print(minimum)"
   ]
  },
  {
   "cell_type": "code",
   "execution_count": 46,
   "metadata": {
    "colab": {
     "base_uri": "https://localhost:8080/",
     "height": 34
    },
    "id": "tKNrImerziY5",
    "outputId": "6e63dd4b-cec6-49f5-f057-cdb6c4e0dfd2"
   },
   "outputs": [
    {
     "name": "stdout",
     "output_type": "stream",
     "text": [
      "Adana\n"
     ]
    }
   ],
   "source": [
    "print(min(\"Adana\",\"Mersin\"))"
   ]
  },
  {
   "cell_type": "code",
   "execution_count": 48,
   "metadata": {
    "colab": {
     "base_uri": "https://localhost:8080/",
     "height": 34
    },
    "id": "4EM1GKVrzo76",
    "outputId": "1a0f5014-9774-4795-caff-d64a365d1795"
   },
   "outputs": [
    {
     "name": "stdout",
     "output_type": "stream",
     "text": [
      "1\n"
     ]
    }
   ],
   "source": [
    "minimum = min(6,2,3,5,6,7,9,1,4,2,8)\n",
    "\n",
    "print(minimum)"
   ]
  }
 ],
 "metadata": {
  "colab": {
   "collapsed_sections": [],
   "name": "week1.ipynb",
   "provenance": []
  },
  "kernelspec": {
   "display_name": "Python 3",
   "language": "python",
   "name": "python3"
  },
  "language_info": {
   "codemirror_mode": {
    "name": "ipython",
    "version": 3
   },
   "file_extension": ".py",
   "mimetype": "text/x-python",
   "name": "python",
   "nbconvert_exporter": "python",
   "pygments_lexer": "ipython3",
   "version": "3.8.5"
  }
 },
 "nbformat": 4,
 "nbformat_minor": 1
}
